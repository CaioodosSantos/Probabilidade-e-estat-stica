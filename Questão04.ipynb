{
  "nbformat": 4,
  "nbformat_minor": 0,
  "metadata": {
    "colab": {
      "name": "Questão04.ipynb",
      "provenance": [],
      "authorship_tag": "ABX9TyPBRyLCAMRV7qmMq5tjtLUD",
      "include_colab_link": true
    },
    "kernelspec": {
      "name": "python3",
      "display_name": "Python 3"
    }
  },
  "cells": [
    {
      "cell_type": "markdown",
      "metadata": {
        "id": "view-in-github",
        "colab_type": "text"
      },
      "source": [
        "<a href=\"https://colab.research.google.com/github/CaioodosSantos/Probabilidade-e-estat-stica/blob/master/Quest%C3%A3o04.ipynb\" target=\"_parent\"><img src=\"https://colab.research.google.com/assets/colab-badge.svg\" alt=\"Open In Colab\"/></a>"
      ]
    },
    {
      "cell_type": "code",
      "metadata": {
        "colab": {
          "base_uri": "https://localhost:8080/"
        },
        "id": "46tjHGqfFBlz",
        "outputId": "6f88f932-aef4-4f9e-d680-9e1b95bfc727"
      },
      "source": [
        "# Disciplina: Probabilidade e Estatística\n",
        "# Aluno: Caio dos Santos Rodrigues\n",
        "# Lista 5\n",
        "import statistics\n",
        "print('Questão 04')\n",
        "\n",
        "# letra a)\n",
        "prodC = [12, 15, 18, 22, 17, 14, 18, 23, 29, 12]\n",
        "mediaS_prodC = sum(prodC)/len(prodC)\n",
        "print('O valor da produção média é:',mediaS_prodC,'toneladas')\n",
        "#Nessa questão foi feito o calculo da produção de café em toneladas em determinada região,\n",
        "#aonde foi usado o dicionário (rodC) para armazenar os dados, logo em seguida foi feito a expressão (mediaS_prodC) que é uma média simples,\n",
        "#logo depois foi usado o comando de string (print) para imprimir o resultado na tela\n",
        "\n",
        "# letra b)\n",
        "mediana = statistics.median(prodC) \n",
        "print('O valor da mediana é:',round(mediana,2),'toneladas') \n",
        "#nessa questão foi usado a expressão (mediana) para definir a função (median) dos valores de (prodC), \n",
        "#logo em seguida o resultado é demonstrado apartir do comando de string (print) que imprime o resultado na tela, aonde nele possui \n",
        "#o método round que arrendonda um valor e o número ao lado é o número de casa decimais \n",
        "\n",
        "# letra c)\n",
        "DesP = statistics.stdev(prodC)\n",
        "print('O valor do desvio padrão é:',round(DesP,2),'toneladas')\n",
        "#nessa questão foi usado a expressão (DesP) para definir a função (stdev) dos valores de (prodC), \n",
        "#logo em seguida o resultado é demonstrado apartir do comando de string (print) que imprime o resultado na tela, aonde nele possui \n",
        "#o método round que arrendonda um valor e o número ao lado é o número de casa decimais \n"
      ],
      "execution_count": 3,
      "outputs": [
        {
          "output_type": "stream",
          "text": [
            "Questão 04\n",
            "O valor da produção média é: 18.0 toneladas\n",
            "O valor da mediana é: 17.5 toneladas\n",
            "O valor do desvio padrão é: 5.37 toneladas\n"
          ],
          "name": "stdout"
        }
      ]
    }
  ]
}