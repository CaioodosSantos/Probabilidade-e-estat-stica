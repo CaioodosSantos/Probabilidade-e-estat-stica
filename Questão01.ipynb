{
  "nbformat": 4,
  "nbformat_minor": 0,
  "metadata": {
    "colab": {
      "name": "Untitled7.ipynb",
      "provenance": [],
      "collapsed_sections": [],
      "authorship_tag": "ABX9TyMUnllgE1GLA968P98chuZW",
      "include_colab_link": true
    },
    "kernelspec": {
      "name": "python3",
      "display_name": "Python 3"
    }
  },
  "cells": [
    {
      "cell_type": "markdown",
      "metadata": {
        "id": "view-in-github",
        "colab_type": "text"
      },
      "source": [
        "<a href=\"https://colab.research.google.com/github/CaioodosSantos/Probabilidade-e-estat-stica/blob/master/Quest%C3%A3o01.ipynb\" target=\"_parent\"><img src=\"https://colab.research.google.com/assets/colab-badge.svg\" alt=\"Open In Colab\"/></a>"
      ]
    },
    {
      "cell_type": "code",
      "metadata": {
        "colab": {
          "base_uri": "https://localhost:8080/"
        },
        "id": "67t49eao5MXi",
        "outputId": "d2605021-4baf-4107-e518-749cbe04cde6"
      },
      "source": [
        "# Disciplina: Probabilidade e Estatística\n",
        "# Aluno: Caio dos Santos Rodrigues\n",
        "# Lista 5\n",
        "\n",
        "print('Questão 01')\n",
        "# letra a)\n",
        "CS=[10, 13, 17, 9, 8, 11, 13, 7]\n",
        "print('O resultado da média aritmética é:',sum(CS)/len(CS))\n",
        "#Nessa questão foi feito a média aritmética dos valores de consumo de sal, \n",
        "#usando o método (sum) para somar o valores, dividido pela quantidade de valores encontrado apartir do método (len).\n",
        "\n",
        "# letra b)\n",
        "import statistics\n",
        "MediaH = statistics.harmonic_mean(CS)\n",
        "print('O resultado da média harmônica é:',round(MediaH,2))\n",
        "#nessa questão foi incorporado o módulo (import statistics) que fornece funções para calcular estatísticas matemáticas de dados numéricos \n",
        "#logo após foi usado a método (harmonic_mean) para calcular a média harmonica dos dados de (CS), aonde foi criado uma parametro (MediaH)\n",
        "\n",
        "# letra c)\n",
        "from scipy.stats.mstats import gmean\n",
        "MediaG = gmean(CS)\n",
        "print('O resultado da média geométrica é:',round(MediaG,2))\n",
        "#nessa questão foi usado o módulo (from scipy.stats.mstats import gmean) contém um grande número de funções estatísticas que podem ser usadas com matrizes mascaradas.\n",
        "#logo após foi usado a função (gmean) para fazer a média geométrica dos dados de (CS), aonde foi criado uma parametro (MediaG)\n",
        "\n",
        "# letra d)\n",
        "moda = statistics.mode(CS)\n",
        "print('O resultado da moda é:',round(moda,2))\n",
        "#nessa questão foi usado a função (mode) que faz a moda ou único (valor mais comum) \n",
        "#de dados discretos ou nominais dos dados de (CS), aonde foi criado uma parametro (moda) \n",
        "\n",
        "# letra e)\n",
        "vari = statistics.variance(CS)\n",
        "print('O resultado da variância é:',round(vari,2))\n",
        "#nessa questão foi usado a função (variance) para descobrir a variância da amostra dos dados de (CS), aonde foi criado uma parametro (vari)\n",
        "\n",
        "# letra f)\n",
        "DesP = statistics.stdev(CS)\n",
        "print('O resultado do desvio padrão é:',round(DesP,2))\n",
        "#nessa questão foi usado a função (stdev) para descobrir o desvio padrão dos dados apartir do dicionario (CS)\n",
        "#aonde foi criado uma parametro (DesP)"
      ],
      "execution_count": 2,
      "outputs": [
        {
          "output_type": "stream",
          "text": [
            "Questão 01\n",
            "O resultado da média aritmética é: 11.0\n",
            "O resultado da média harmônica é: 10.22\n",
            "O resultado da média geométrica é: 10.6\n",
            "O resultado da moda é: 13\n",
            "O resultado da variância é: 10.57\n",
            "O resultado do desvio padrão é: 3.25\n"
          ],
          "name": "stdout"
        }
      ]
    }
  ]
}