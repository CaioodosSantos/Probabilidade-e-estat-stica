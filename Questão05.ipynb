{
  "nbformat": 4,
  "nbformat_minor": 0,
  "metadata": {
    "colab": {
      "name": "Questão05.ipynb",
      "provenance": [],
      "collapsed_sections": [],
      "authorship_tag": "ABX9TyPq7KRdAwxyLV3MqBHbHBhv",
      "include_colab_link": true
    },
    "kernelspec": {
      "name": "python3",
      "display_name": "Python 3"
    }
  },
  "cells": [
    {
      "cell_type": "markdown",
      "metadata": {
        "id": "view-in-github",
        "colab_type": "text"
      },
      "source": [
        "<a href=\"https://colab.research.google.com/github/CaioodosSantos/Probabilidade-e-estat-stica/blob/master/Quest%C3%A3o05.ipynb\" target=\"_parent\"><img src=\"https://colab.research.google.com/assets/colab-badge.svg\" alt=\"Open In Colab\"/></a>"
      ]
    },
    {
      "cell_type": "code",
      "metadata": {
        "colab": {
          "base_uri": "https://localhost:8080/"
        },
        "id": "uWXDtR1oHDF9",
        "outputId": "8b2e6892-bd3d-4839-803a-d1d8ade2e5a1"
      },
      "source": [
        "# Disciplina: Probabilidade e Estatística\n",
        "# Aluno: Caio dos Santos Rodrigues\n",
        "# Lista 5\n",
        "import statistics\n",
        "from scipy.stats.mstats import gmean\n",
        "\n",
        "print('Questão 05')\n",
        "\n",
        "loop = True\n",
        "notas = []\n",
        "\n",
        "while(loop):\n",
        "    nota = int(input('Insira a nota do aluno: '))\n",
        "    if (nota>10 or nota<0):\n",
        "      print('nota inválida, coloque novamente')\n",
        "      nota = int(input('Insira a nota do aluno: '))\n",
        "    if nota != -999:\n",
        "        notas.append(nota)\n",
        "    \n",
        "    else:\n",
        "        loop = False\n",
        "\n",
        "print ('A quantidade de notas inseridas é de', len(notas))\n",
        "print ('O resultado da média aritmética é: ', round(sum(notas) / len(notas), 2))\n",
        "MediaH = statistics.harmonic_mean(notas)\n",
        "print('O resultado da média harmônica é:',round(MediaH,2))\n",
        "MediaG = gmean(notas)\n",
        "print('O resultado da média geométrica é:',round(MediaG,2))\n",
        "moda = statistics.mode(notas)\n",
        "print('O resultado da moda é:',round(moda,2))\n",
        "vari = statistics.variance(notas)\n",
        "print('O resultado da variância é:',round(vari,2))\n",
        "DesP = statistics.stdev(notas)\n",
        "print('O resultado do desvio padrão é:',round(DesP,2))\n",
        "mediaS_notas = sum(notas)/len(notas)\n",
        "DesP = statistics.stdev(notas)\n",
        "CoeV = (DesP/mediaS_notas) * 100  \n",
        "print('O resultado do coeficiente de variação é:',round(CoeV,2), \"%\") \n",
        "\n",
        " \n",
        "        "
      ],
      "execution_count": 166,
      "outputs": [
        {
          "output_type": "stream",
          "text": [
            "Questão 05\n",
            "Insira a nota do aluno: 5\n",
            "Insira a nota do aluno: 6\n",
            "Insira a nota do aluno: 7\n",
            "Insira a nota do aluno: 5\n",
            "Insira a nota do aluno: 11\n",
            "nota inválida, coloque novamente\n",
            "Insira a nota do aluno: -999\n",
            "A quantidade de notas inseridas é de 4\n",
            "O resultado da média aritmética é:  5.75\n",
            "O resultado da média harmônica é: 5.64\n",
            "O resultado da média geométrica é: 5.69\n",
            "O resultado da moda é: 5\n",
            "O resultado da variância é: 0.92\n",
            "O resultado do desvio padrão é: 0.96\n",
            "O resultado do coeficiente de variação é: 16.65 %\n"
          ],
          "name": "stdout"
        }
      ]
    },
    {
      "cell_type": "code",
      "metadata": {
        "id": "NTMrI1kYoIbj"
      },
      "source": [
        ""
      ],
      "execution_count": null,
      "outputs": []
    },
    {
      "cell_type": "code",
      "metadata": {
        "id": "52L58MlznUqD"
      },
      "source": [
        ""
      ],
      "execution_count": 133,
      "outputs": []
    },
    {
      "cell_type": "code",
      "metadata": {
        "id": "gu29WKB0mWjj"
      },
      "source": [
        ""
      ],
      "execution_count": 133,
      "outputs": []
    },
    {
      "cell_type": "code",
      "metadata": {
        "id": "_o4qqNH4fHGM"
      },
      "source": [
        ""
      ],
      "execution_count": 133,
      "outputs": []
    }
  ]
}