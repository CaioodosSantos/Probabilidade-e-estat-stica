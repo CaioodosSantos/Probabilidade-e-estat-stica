{
  "nbformat": 4,
  "nbformat_minor": 0,
  "metadata": {
    "colab": {
      "name": "Untitled8.ipynb",
      "provenance": [],
      "authorship_tag": "ABX9TyNgl/0i0MvfPDYO4tDoK5zY",
      "include_colab_link": true
    },
    "kernelspec": {
      "name": "python3",
      "display_name": "Python 3"
    }
  },
  "cells": [
    {
      "cell_type": "markdown",
      "metadata": {
        "id": "view-in-github",
        "colab_type": "text"
      },
      "source": [
        "<a href=\"https://colab.research.google.com/github/CaioodosSantos/Probabilidade-e-estat-stica/blob/master/Quest%C3%A3o02.ipynb\" target=\"_parent\"><img src=\"https://colab.research.google.com/assets/colab-badge.svg\" alt=\"Open In Colab\"/></a>"
      ]
    },
    {
      "cell_type": "code",
      "metadata": {
        "colab": {
          "base_uri": "https://localhost:8080/"
        },
        "id": "bHspqV_d-mhW",
        "outputId": "450151fd-2e3e-4660-907a-2d5f8e587f6b"
      },
      "source": [
        "# Disciplina: Probabilidade e Estatística\n",
        "# Aluno: Caio dos Santos Rodrigues\n",
        "# Lista 5\n",
        "\n",
        "import statistics\n",
        "from scipy.stats.mstats import gmean\n",
        "\n",
        "print('Questão 02')\n",
        "# letra a)\n",
        "EA = [67, 75, 63, 72, 77, 78, 81, 77, 80]\n",
        "print('O resultado da média aritmética é:',sum(EA)/len(EA))\n",
        "MediaH = statistics.harmonic_mean(EA)\n",
        "print('O resultado da média harmônica é:',round(MediaH,2))\n",
        "MediaG = gmean(EA)\n",
        "print('O resultado da média geométrica é:',round(MediaG,2))\n",
        "#Nessa questão foi feito a média aritmética, harmonica e geometrica dos valores de uma escala de ansiedade, \n",
        "#no primeiro foi usado o método (sum) para somar o valores, dividido pela quantidade de valores encontrado apartir do método (len).\n",
        "#no segundo foi usado a função (harmonic_mean) ligado aos valores de (EA) apartir de uma expressão (MediaH)\n",
        "#no terceiro foi usado a função (gmean) ligado aos valores de (EA) apartir da expressão (MediaG) e o resultado é demonstrado apartir do comando de string printf\n",
        "#usado em todas, além de possuir o método (round) que arrendonda um valor e o número ao lado é o número de casa decimais\n",
        "\n",
        "# letra b)\n",
        "moda = statistics.mode(EA)\n",
        "print('O resultado da moda é:',round(moda,2))\n",
        "#Aqui foi feito a moda partindo da expressão (moda) que contém a função (mode) ligado aos valores de (EA)\n",
        "#O resultado é demonstrado apartir do comando de string (print) que imprime o resultado na tela, aonde nele possui \n",
        "#o método (round) que arrendonda um valor e o número ao lado é o número de casa decimais\n",
        "\n",
        "# letra c)\n",
        "mediana = statistics.median(EA) \n",
        "print('O resultado da mediana é:',round(mediana,2)) \n",
        "#Aqui foi feito a mediana partindo da expressão (mediana) que contém a função (median) ligado aos valores de (EA)\n",
        "#O resultado é demonstrado apartir do comando de string (print) que imprime o resultado na tela, aonde nele possui \n",
        "#o método (round) que arrendonda um valor e o número ao lado é o número de casa decimais\n",
        "\n",
        "# letra d)\n",
        "vari = statistics.variance(EA)\n",
        "print('O resultado da variância é:',round(vari,2))\n",
        "#Aqui foi feito a moda partindo da expressão (vari) que contém a função (variance) ligado aos valores de (EA)\n",
        "#O resultado é demonstrado apartir do comando de string (print) que imprime o resultado na tela, aonde nele possui \n",
        "#o método round que arrendonda um valor e o número ao lado é o número de casa decimais\n",
        "\n",
        "# letra e)\n",
        "DesP = statistics.stdev(EA)\n",
        "print('O resultado do desvio padrão é:',round(DesP,2))\n",
        "#Aqui foi feito a moda partindo da expressão (DesP) que contém a função (stdev) ligado aos valores de (EA)\n",
        "#O resultado é demonstrado apartir do comando de string (print) que imprime o resultado na tela, aonde nele possui \n",
        "#o método round que arrendonda um valor e o número ao lado é o número de casa decimais\n"
      ],
      "execution_count": 4,
      "outputs": [
        {
          "output_type": "stream",
          "text": [
            "Questão 02\n",
            "O resultado da média aritmética é: 74.44444444444444\n",
            "O resultado da média harmônica é: 73.98\n",
            "O resultado da média geométrica é: 74.22\n",
            "O resultado da moda é: 77\n",
            "O resultado da mediana é: 77\n",
            "O resultado da variância é: 36.53\n",
            "O resultado do desvio padrão é: 6.04\n"
          ],
          "name": "stdout"
        }
      ]
    }
  ]
}