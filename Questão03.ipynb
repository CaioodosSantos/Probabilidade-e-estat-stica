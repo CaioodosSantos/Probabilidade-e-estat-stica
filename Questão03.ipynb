{
  "nbformat": 4,
  "nbformat_minor": 0,
  "metadata": {
    "colab": {
      "name": "Questão03.ipynb",
      "provenance": [],
      "collapsed_sections": [],
      "authorship_tag": "ABX9TyOCQ0tnVhLsN6Qhht29FJwP",
      "include_colab_link": true
    },
    "kernelspec": {
      "name": "python3",
      "display_name": "Python 3"
    }
  },
  "cells": [
    {
      "cell_type": "markdown",
      "metadata": {
        "id": "view-in-github",
        "colab_type": "text"
      },
      "source": [
        "<a href=\"https://colab.research.google.com/github/CaioodosSantos/Probabilidade-e-estat-stica/blob/master/Quest%C3%A3o03.ipynb\" target=\"_parent\"><img src=\"https://colab.research.google.com/assets/colab-badge.svg\" alt=\"Open In Colab\"/></a>"
      ]
    },
    {
      "cell_type": "code",
      "metadata": {
        "id": "bUoEwLKHCLWM",
        "colab": {
          "base_uri": "https://localhost:8080/"
        },
        "outputId": "429f30ec-efb8-4985-a739-d1b248905fbc"
      },
      "source": [
        "# Disciplina: Probabilidade e Estatística\n",
        "# Aluno: Caio dos Santos Rodrigues\n",
        "# Lista 5\n",
        "import statistics\n",
        "\n",
        "print('Questão 03')\n",
        "\n",
        "pdl = [4.0, 4.5, 5.0 , 5.0, 5.5, 6.0, 6.5, 6.5, 6.5, 6.5,\n",
        "      7.0, 7.0, 7.0, 7.0, 7.0, 7.0, 7.5, 8.5, 9.0, 9.0, 9.0, \n",
        "      9.5, 10.0, 10.0, 10.5, 10.5, 11.0, 12.0, 12.5, 13.0, 13.0]\n",
        "mediaS_pdl = sum(pdl)/len(pdl)\n",
        "DesP = statistics.stdev(pdl)\n",
        "\n",
        "CoeV = (DesP/mediaS_pdl) * 100  \n",
        "print('O resultado do coeficiente de variação é:',round(CoeV,2), \"%\") \n",
        "#Nessa questão foi feito o calculo do coeficiente de variação de um conjunto de dados de produção diária de leite, \n",
        "#aonde foi usado o dicionário (pdl) para armazenar os dados, logo em seguida foi feito a expressão (mediaS_pdl) que é uma média simples,\n",
        "#usando (sum) para somar os valores e (len) para ler a quantidade de valores\n",
        "#logo depois foi usado outra expresão para descobrir o coeficiente, acontecendo uma divisão entre o desvio padrão e a media, logo em seguida são transformados para porcentagem\n",
        "#O resultado é demonstrado apartir do comando de string (print) que imprime o resultado na tela, aonde nele possui \n",
        "#o método round que arrendonda um valor e o número ao lado é o número de casa decimais\n",
        " "
      ],
      "execution_count": 2,
      "outputs": [
        {
          "output_type": "stream",
          "text": [
            "Questão 03\n",
            "O resultado do coeficiente de variação é: 31.01 %\n"
          ],
          "name": "stdout"
        }
      ]
    }
  ]
}