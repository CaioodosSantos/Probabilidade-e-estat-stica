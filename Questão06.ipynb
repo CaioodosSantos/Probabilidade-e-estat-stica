{
  "nbformat": 4,
  "nbformat_minor": 0,
  "metadata": {
    "colab": {
      "name": "Questão06.ipynb",
      "provenance": [],
      "collapsed_sections": [],
      "authorship_tag": "ABX9TyP2pKzF8j+QkY9Plp+RAKUz",
      "include_colab_link": true
    },
    "kernelspec": {
      "name": "python3",
      "display_name": "Python 3"
    }
  },
  "cells": [
    {
      "cell_type": "markdown",
      "metadata": {
        "id": "view-in-github",
        "colab_type": "text"
      },
      "source": [
        "<a href=\"https://colab.research.google.com/github/CaioodosSantos/Probabilidade-e-estat-stica/blob/master/Quest%C3%A3o06.ipynb\" target=\"_parent\"><img src=\"https://colab.research.google.com/assets/colab-badge.svg\" alt=\"Open In Colab\"/></a>"
      ]
    },
    {
      "cell_type": "code",
      "metadata": {
        "colab": {
          "base_uri": "https://localhost:8080/"
        },
        "id": "t6g00GPZwAqZ",
        "outputId": "08974494-f8c6-4843-e2f2-a438eabba057"
      },
      "source": [
        "# Disciplina: Probabilidade e Estatística\n",
        "# Aluno: Caio dos Santos Rodrigues\n",
        "# Lista 5\n",
        "import statistics\n",
        "from scipy.stats.mstats import gmean\n",
        "\n",
        "loop = True\n",
        "notas = 3\n",
        "for _ in range(notas):\n",
        "    nota = int(input('Insira a nota do aluno: '))\n",
        "    if (nota>10 or nota<0):\n",
        "      print('nota inválida, coloque novamente')\n",
        "      nota = int(input('Insira a nota do aluno: '))\n",
        "\n",
        "MediaP = (num1*3)+(num2*4)+(num3*3)/3\n",
        "print('A média pondera com pesos 3, 4 e 3 é: ',MediaP)\n",
        "\n",
        "#Nessa questão foi feito a média ponderada apartir das notas lançadas on input,\n",
        "#aonde foi declarado a quantidade de notas no começo do código, logo após uma estrutura de loop ligado as notas que são lançadas\n",
        "#foi usado o parametro range para chegar até a quantidade de notas que foi definido, assim que é aceito entra na declação das notas\n",
        "#pelo input, logo após declaradas entram na condição do if, caso estejam corretas são armazenadas e é feito a média ponderada no final,\n",
        "#caso não esteja na condição o loop se torna infinito, perguntando a nota correta\n",
        "    \n",
        "  "
      ],
      "execution_count": 53,
      "outputs": [
        {
          "output_type": "stream",
          "text": [
            "Insira a nota do aluno: 5\n",
            "Insira a nota do aluno: 11\n",
            "nota inválida, coloque novamente\n",
            "Insira a nota do aluno: 5\n",
            "Insira a nota do aluno: 6\n",
            "A média pondera com pesos 3, 4 e 3 é:  158.0\n"
          ],
          "name": "stdout"
        }
      ]
    }
  ]
}